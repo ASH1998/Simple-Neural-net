{
 "cells": [
  {
   "cell_type": "code",
   "execution_count": 1,
   "metadata": {
    "collapsed": false
   },
   "outputs": [],
   "source": [
    "from numpy import * #mathmetical library\n",
    "from tqdm import tqdm #progressbar\n",
    "\n",
    "import matplotlib.pyplot as plt #plotting graph\n",
    "import matplotlib.style as style\n",
    "\n",
    "style.use(\"fivethirtyeight\")"
   ]
  },
  {
   "cell_type": "code",
   "execution_count": 2,
   "metadata": {
    "collapsed": true
   },
   "outputs": [],
   "source": [
    "#declaring the sigmoid function cum the derivative function\n",
    "def sigmoid_func(x, deriv=False):\n",
    "    if deriv==True:\n",
    "        return x*(1-x)\n",
    "    return 1/(1+exp(-x))"
   ]
  },
  {
   "cell_type": "code",
   "execution_count": 3,
   "metadata": {
    "collapsed": true
   },
   "outputs": [],
   "source": [
    "#declaring the training function\n",
    "def training_func(x, y, iterations, syn0, syn1):\n",
    "    '''\n",
    "    here:\n",
    "    x = input\n",
    "    y = output labels\n",
    "    iterations = total iterations\n",
    "    syn0 = synapse 1\n",
    "    syn1 = synapse 2\n",
    "    \n",
    "    '''\n",
    "    \n",
    "    error_vals = [] #storing the errors\n",
    "    for i in tqdm(range(iterations)):\n",
    "        l0 = x\n",
    "        l1 = sigmoid_func(dot(l0, syn0))\n",
    "        l2 = sigmoid_func(dot(l1, syn1))\n",
    "        \n",
    "        #calculating the error\n",
    "        error = y - l2\n",
    "        if i%1000 == 0:\n",
    "            error_vals.append(mean(abs(error)))\n",
    "        \n",
    "        l2_delta = error*sigmoid_func(l2, deriv=True)\n",
    "        l1_error = l2_delta.dot(syn1.T)\n",
    "        l1_delta = l1_error*sigmoid_func(l1, deriv=True)\n",
    "        \n",
    "        #updating synapse\n",
    "        syn0 += l0.T.dot(l1_delta)\n",
    "        syn1 += l1.T.dot(error)\n",
    "    \n",
    "    return (error_vals, l2)\n",
    "\n",
    "        "
   ]
  },
  {
   "cell_type": "code",
   "execution_count": 4,
   "metadata": {
    "collapsed": true
   },
   "outputs": [],
   "source": [
    "#plotting the errors\n",
    "def plot_func(errors):\n",
    "    val = []\n",
    "    for i in range(len(errors)):\n",
    "        val.append(i)\n",
    "    axes = plt.gca()\n",
    "    axes.set_ylim([0.0, 0.007])\n",
    "    plt.plot(val, errors, marker='o')\n",
    "    plt.show()"
   ]
  },
  {
   "cell_type": "code",
   "execution_count": 5,
   "metadata": {
    "collapsed": true
   },
   "outputs": [],
   "source": [
    "#the main function\n",
    "def main():\n",
    "    x = array([[0,1,0,1],\n",
    "        [1,1,0,1],\n",
    "        [0,1,1,0], \n",
    "        [1,1,1,0]])\n",
    "    y = array([[1], [0], [0], [1]])\n",
    "    \n",
    "    syn0 = 2*random.random((4,4)) - 1\n",
    "    syn1 = 2*random.random((4,1)) - 1\n",
    "    \n",
    "    errors, op = training_func(x, y , 60000, syn0, syn1)\n",
    "    print(\"the output we get :\",op)\n",
    "    plot_func(errors)"
   ]
  },
  {
   "cell_type": "code",
   "execution_count": 6,
   "metadata": {
    "collapsed": false
   },
   "outputs": [
    {
     "name": "stderr",
     "output_type": "stream",
     "text": [
      "100%|█████████████████████████████| 60000/60000 [00:02<00:00, 25877.14it/s]\n"
     ]
    },
    {
     "name": "stdout",
     "output_type": "stream",
     "text": [
      "the output we get : [[  9.99892715e-01]\n",
      " [  9.26275034e-05]\n",
      " [  9.03508631e-05]\n",
      " [  9.99898123e-01]]\n"
     ]
    },
    {
     "data": {
      "image/png": "[encoded data removed]",
      "text/plain": [
       "<matplotlib.figure.Figure at 0xdc66888240>"
      ]
     },
     "metadata": {},
     "output_type": "display_data"
    }
   ],
   "source": [
    "main()"
   ]
  },
  {
   "cell_type": "markdown",
   "metadata": {
    "collapsed": true
   },
   "source": [
    "As we see the result we get is super close to the output we provided!!\n",
    "\n",
    "NOTE : ne-01 = n*0.1\n",
    "       \n",
    "       ne-05 = n*0.00001\n",
    "\n",
    "And the error function also decreases to super min value close to 0..."
   ]
  },
  {
   "cell_type": "code",
   "execution_count": null,
   "metadata": {
    "collapsed": true
   },
   "outputs": [],
   "source": []
  }
 ],
 "metadata": {
  "anaconda-cloud": {},
  "kernelspec": {
   "display_name": "Python [conda root]",
   "language": "python",
   "name": "conda-root-py"
  },
  "language_info": {
   "codemirror_mode": {
    "name": "ipython",
    "version": 3
   },
   "file_extension": ".py",
   "mimetype": "text/x-python",
   "name": "python",
   "nbconvert_exporter": "python",
   "pygments_lexer": "ipython3",
   "version": "3.5.2"
  }
 },
 "nbformat": 4,
 "nbformat_minor": 2
}
